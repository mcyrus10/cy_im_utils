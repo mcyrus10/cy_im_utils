{
 "cells": [
  {
   "cell_type": "markdown",
   "id": "1a2583ba-7a22-4646-9257-e406463a1f79",
   "metadata": {},
   "source": [
    "# imread_fit...\n",
    "\n",
    "Formerly had to have 3D image inputs, (n_images, nx, ny), now it can take just 2d frames (nx,ny)"
   ]
  },
  {
   "cell_type": "code",
   "execution_count": 1,
   "id": "fb3921e7-1065-43cd-9e43-3496ecd35982",
   "metadata": {},
   "outputs": [],
   "source": [
    "%load_ext autoreload\n",
    "%autoreload 2\n",
    "from pathlib import Path\n",
    "import numpy as np\n",
    "from astropy.io import fits\n",
    "from sys import path\n",
    "path.append(\"..\")\n",
    "from cy_im_utils.prep import imread_fit"
   ]
  },
  {
   "cell_type": "code",
   "execution_count": 2,
   "id": "41d96eeb-8294-4331-8da3-c1d93abcd3a7",
   "metadata": {},
   "outputs": [],
   "source": [
    "%matplotlib widget\n",
    "import matplotlib.pyplot as plt"
   ]
  },
  {
   "cell_type": "code",
   "execution_count": 3,
   "id": "9fc1c4bc-989e-40f5-b41a-f194fa4b3c3c",
   "metadata": {},
   "outputs": [
    {
     "name": "stdout",
     "output_type": "stream",
     "text": [
      "2160 2560\n"
     ]
    }
   ],
   "source": [
    "path = Path(\"D:/Data/Pens/flat2\")\n",
    "path = Path(\"E:/2020/Neutron/4D1/HighRes/0fdRaw/flat_HR\")\n",
    "files = list(path.glob(\"*.fit\"))\n",
    "nx,ny = np.array(imread_fit(files[0])).shape\n",
    "print(nx,ny)\n",
    "for f in files:\n",
    "    np.array(imread_fit(f))"
   ]
  },
  {
   "cell_type": "code",
   "execution_count": 20,
   "id": "93669d08-a994-4f65-ad68-ba89ec6febd8",
   "metadata": {},
   "outputs": [
    {
     "data": {
      "text/plain": [
       "(3, 2160, 2560)"
      ]
     },
     "execution_count": 20,
     "metadata": {},
     "output_type": "execute_result"
    }
   ],
   "source": [
    "im = fits.open(files[0])\n",
    "im[0].data.shape"
   ]
  },
  {
   "cell_type": "code",
   "execution_count": 22,
   "id": "ba50a2bd-5458-40df-8f2d-6e70ac956775",
   "metadata": {},
   "outputs": [
    {
     "data": {
      "text/plain": [
       "3"
      ]
     },
     "execution_count": 22,
     "metadata": {},
     "output_type": "execute_result"
    }
   ],
   "source": [
    "im[0].data.ndim"
   ]
  }
 ],
 "metadata": {
  "kernelspec": {
   "display_name": "Python 3 (ipykernel)",
   "language": "python",
   "name": "python3"
  },
  "language_info": {
   "codemirror_mode": {
    "name": "ipython",
    "version": 3
   },
   "file_extension": ".py",
   "mimetype": "text/x-python",
   "name": "python",
   "nbconvert_exporter": "python",
   "pygments_lexer": "ipython3",
   "version": "3.7.10"
  }
 },
 "nbformat": 4,
 "nbformat_minor": 5
}
